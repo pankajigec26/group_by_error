{
 "cells": [
  {
   "cell_type": "markdown",
   "metadata": {
    "colab_type": "text",
    "id": "fT7DubQnG1eb"
   },
   "source": [
    "# Group by error of output.xml"
   ]
  },
  {
   "cell_type": "markdown",
   "metadata": {
    "colab_type": "text",
    "id": "u6IYP-hFG1ec"
   },
   "source": [
    "# Loading the library"
   ]
  },
  {
   "cell_type": "code",
   "execution_count": 1,
   "metadata": {
    "colab": {},
    "colab_type": "code",
    "id": "mdsNVldFG1ed"
   },
   "outputs": [],
   "source": [
    "import xml.etree.ElementTree as ET\n",
    "import sqlite3\n",
    "from sqlite3 import Error\n",
    "import os\n",
    "import subprocess\n",
    "import time\n",
    "import pandas as pd"
   ]
  },
  {
   "cell_type": "code",
   "execution_count": 2,
   "metadata": {
    "colab": {},
    "colab_type": "code",
    "id": "yGYvK0cBG1ei"
   },
   "outputs": [
    {
     "name": "stdout",
     "output_type": "stream",
     "text": [
      "Enter the Absolute path of xmlC:\\Users\\espianm\\Desktop\\Ericsson_Training\\rerun\n"
     ]
    }
   ],
   "source": [
    "#Location of outputxml which needs to be parsed \n",
    "path=input(\"Enter the Absolute path of xml\")\n",
    "output_path=path\n",
    "os.chdir(output_path)"
   ]
  },
  {
   "cell_type": "markdown",
   "metadata": {
    "colab_type": "text",
    "id": "5C7QBb5OG1em"
   },
   "source": [
    "# Creating a data frame"
   ]
  },
  {
   "cell_type": "code",
   "execution_count": 14,
   "metadata": {
    "colab": {},
    "colab_type": "code",
    "id": "sW1Ryy-8G1en",
    "outputId": "aea32f6d-22ee-4119-f5ba-e4c4a4928ad7"
   },
   "outputs": [
    {
     "data": {
      "text/html": [
       "<div>\n",
       "<style scoped>\n",
       "    .dataframe tbody tr th:only-of-type {\n",
       "        vertical-align: middle;\n",
       "    }\n",
       "\n",
       "    .dataframe tbody tr th {\n",
       "        vertical-align: top;\n",
       "    }\n",
       "\n",
       "    .dataframe thead th {\n",
       "        text-align: right;\n",
       "    }\n",
       "</style>\n",
       "<table border=\"1\" class=\"dataframe\">\n",
       "  <thead>\n",
       "    <tr style=\"text-align: right;\">\n",
       "      <th></th>\n",
       "      <th>Test Case Name</th>\n",
       "      <th>Error</th>\n",
       "      <th>Simplified Text</th>\n",
       "    </tr>\n",
       "  </thead>\n",
       "  <tbody>\n",
       "    <tr>\n",
       "      <th>0</th>\n",
       "      <td>pankaj</td>\n",
       "      <td>test</td>\n",
       "      <td>Simplified Test</td>\n",
       "    </tr>\n",
       "  </tbody>\n",
       "</table>\n",
       "</div>"
      ],
      "text/plain": [
       "  Test Case Name Error  Simplified Text\n",
       "0         pankaj  test  Simplified Test"
      ]
     },
     "execution_count": 14,
     "metadata": {},
     "output_type": "execute_result"
    }
   ],
   "source": [
    "data={'Test Case Name':['pankaj'],'Error':['test'],'Simplified Text':['Simplified Test']}\n",
    "df=pd.DataFrame(data,columns=['Test Case Name','Error','Simplified Text'])\n",
    "df"
   ]
  },
  {
   "cell_type": "markdown",
   "metadata": {
    "colab_type": "text",
    "id": "aEtRyo0hG1es"
   },
   "source": [
    "# Parse the xml"
   ]
  },
  {
   "cell_type": "code",
   "execution_count": 15,
   "metadata": {
    "colab": {},
    "colab_type": "code",
    "id": "NTiC53xWG1et"
   },
   "outputs": [],
   "source": [
    "#parsing the xml\n",
    "test_case_name=[]\n",
    "error=[]\n",
    "tree = ET.parse('output.xml')\n",
    "root = tree.getroot()\n",
    "for test in root.iter('test'):\n",
    "    try:\n",
    "        status = test.find('status').text[:100]\n",
    "        \n",
    "    except:\n",
    "        status='status not found'\n",
    "    \n",
    "    name = test.get('name')\n",
    "    test_case_name.append(name)\n",
    "    error.append(status)\n",
    "    \n"
   ]
  },
  {
   "cell_type": "code",
   "execution_count": 16,
   "metadata": {
    "colab": {},
    "colab_type": "code",
    "id": "DXzyvBetG1ew",
    "outputId": "c5feb49f-5aa1-4e8e-cbcb-154d0177eaca"
   },
   "outputs": [
    {
     "data": {
      "text/html": [
       "<div>\n",
       "<style scoped>\n",
       "    .dataframe tbody tr th:only-of-type {\n",
       "        vertical-align: middle;\n",
       "    }\n",
       "\n",
       "    .dataframe tbody tr th {\n",
       "        vertical-align: top;\n",
       "    }\n",
       "\n",
       "    .dataframe thead th {\n",
       "        text-align: right;\n",
       "    }\n",
       "</style>\n",
       "<table border=\"1\" class=\"dataframe\">\n",
       "  <thead>\n",
       "    <tr style=\"text-align: right;\">\n",
       "      <th></th>\n",
       "      <th>Test Case Name</th>\n",
       "      <th>Error</th>\n",
       "      <th>Simplified Text</th>\n",
       "    </tr>\n",
       "  </thead>\n",
       "  <tbody>\n",
       "    <tr>\n",
       "      <th>0</th>\n",
       "      <td>001 Copy CR with mandatory parameters where so...</td>\n",
       "      <td>AssertionError</td>\n",
       "      <td></td>\n",
       "    </tr>\n",
       "    <tr>\n",
       "      <th>1</th>\n",
       "      <td>001 Create and Retrieve Complex CR with all pa...</td>\n",
       "      <td>AssertionError</td>\n",
       "      <td></td>\n",
       "    </tr>\n",
       "    <tr>\n",
       "      <th>2</th>\n",
       "      <td>020 Create and Update complex CR with all poss...</td>\n",
       "      <td>status not found</td>\n",
       "      <td></td>\n",
       "    </tr>\n",
       "    <tr>\n",
       "      <th>3</th>\n",
       "      <td>001 Disconnect CR with mandatory and optional ...</td>\n",
       "      <td>AssertionError</td>\n",
       "      <td></td>\n",
       "    </tr>\n",
       "    <tr>\n",
       "      <th>4</th>\n",
       "      <td>002 Transfer CR with mandatory and optional pa...</td>\n",
       "      <td>AssertionError</td>\n",
       "      <td></td>\n",
       "    </tr>\n",
       "  </tbody>\n",
       "</table>\n",
       "</div>"
      ],
      "text/plain": [
       "                                      Test Case Name             Error  \\\n",
       "0  001 Copy CR with mandatory parameters where so...    AssertionError   \n",
       "1  001 Create and Retrieve Complex CR with all pa...    AssertionError   \n",
       "2  020 Create and Update complex CR with all poss...  status not found   \n",
       "3  001 Disconnect CR with mandatory and optional ...    AssertionError   \n",
       "4  002 Transfer CR with mandatory and optional pa...    AssertionError   \n",
       "\n",
       "  Simplified Text  \n",
       "0                  \n",
       "1                  \n",
       "2                  \n",
       "3                  \n",
       "4                  "
      ]
     },
     "execution_count": 16,
     "metadata": {},
     "output_type": "execute_result"
    }
   ],
   "source": [
    "data={'Test Case Name':test_case_name,'Error':error,'Simplified Text':''}\n",
    "df=pd.DataFrame(data)\n",
    "df.head()"
   ]
  },
  {
   "cell_type": "code",
   "execution_count": 17,
   "metadata": {},
   "outputs": [],
   "source": [
    "#Deleting passed record\n",
    "df = df[df.Error != \"status not found\"]"
   ]
  },
  {
   "cell_type": "code",
   "execution_count": 18,
   "metadata": {
    "colab": {},
    "colab_type": "code",
    "id": "tgdkmMOTG1ez",
    "outputId": "b1356062-8265-47e9-ff1a-0e0cacbbe9fa"
   },
   "outputs": [
    {
     "data": {
      "text/plain": [
       "(10, 3)"
      ]
     },
     "execution_count": 18,
     "metadata": {},
     "output_type": "execute_result"
    }
   ],
   "source": [
    "df.shape"
   ]
  },
  {
   "cell_type": "code",
   "execution_count": 19,
   "metadata": {
    "colab": {},
    "colab_type": "code",
    "id": "J3RrzBuPG1e6",
    "outputId": "1fd16384-4fe6-4edb-a7f1-546071cc150c"
   },
   "outputs": [
    {
     "data": {
      "text/html": [
       "<div>\n",
       "<style scoped>\n",
       "    .dataframe tbody tr th:only-of-type {\n",
       "        vertical-align: middle;\n",
       "    }\n",
       "\n",
       "    .dataframe tbody tr th {\n",
       "        vertical-align: top;\n",
       "    }\n",
       "\n",
       "    .dataframe thead th {\n",
       "        text-align: right;\n",
       "    }\n",
       "</style>\n",
       "<table border=\"1\" class=\"dataframe\">\n",
       "  <thead>\n",
       "    <tr style=\"text-align: right;\">\n",
       "      <th></th>\n",
       "      <th>Test Case Name</th>\n",
       "      <th>Simplified Text</th>\n",
       "    </tr>\n",
       "    <tr>\n",
       "      <th>Error</th>\n",
       "      <th></th>\n",
       "      <th></th>\n",
       "    </tr>\n",
       "  </thead>\n",
       "  <tbody>\n",
       "    <tr>\n",
       "      <th>AssertionError</th>\n",
       "      <td>10</td>\n",
       "      <td>10</td>\n",
       "    </tr>\n",
       "  </tbody>\n",
       "</table>\n",
       "</div>"
      ],
      "text/plain": [
       "                Test Case Name  Simplified Text\n",
       "Error                                          \n",
       "AssertionError              10               10"
      ]
     },
     "execution_count": 19,
     "metadata": {},
     "output_type": "execute_result"
    }
   ],
   "source": [
    "df.groupby(['Error']).count()"
   ]
  },
  {
   "cell_type": "code",
   "execution_count": 20,
   "metadata": {},
   "outputs": [],
   "source": [
    "import pandas as pd\n",
    "pd.set_option('display.max_rows', 500)\n",
    "pd.set_option('display.max_columns', 500)\n",
    "pd.set_option('display.width', 1000)"
   ]
  },
  {
   "cell_type": "code",
   "execution_count": 21,
   "metadata": {
    "colab": {},
    "colab_type": "code",
    "id": "FdDH2-SEG1fA"
   },
   "outputs": [],
   "source": [
    "df.sort_values(\"Error\", axis = 0, ascending = True, \n",
    "                 inplace = True, na_position ='last') \n"
   ]
  },
  {
   "cell_type": "code",
   "execution_count": 22,
   "metadata": {
    "colab": {},
    "colab_type": "code",
    "id": "dJx9LF-kG1fC",
    "outputId": "b567f403-889b-4e6d-c34e-8ae0af5f270c"
   },
   "outputs": [
    {
     "data": {
      "text/html": [
       "<div>\n",
       "<style scoped>\n",
       "    .dataframe tbody tr th:only-of-type {\n",
       "        vertical-align: middle;\n",
       "    }\n",
       "\n",
       "    .dataframe tbody tr th {\n",
       "        vertical-align: top;\n",
       "    }\n",
       "\n",
       "    .dataframe thead th {\n",
       "        text-align: right;\n",
       "    }\n",
       "</style>\n",
       "<table border=\"1\" class=\"dataframe\">\n",
       "  <thead>\n",
       "    <tr style=\"text-align: right;\">\n",
       "      <th></th>\n",
       "      <th>Test Case Name</th>\n",
       "      <th>Error</th>\n",
       "      <th>Simplified Text</th>\n",
       "    </tr>\n",
       "  </thead>\n",
       "  <tbody>\n",
       "    <tr>\n",
       "      <th>0</th>\n",
       "      <td>001 Copy CR with mandatory parameters where so...</td>\n",
       "      <td>AssertionError</td>\n",
       "      <td></td>\n",
       "    </tr>\n",
       "    <tr>\n",
       "      <th>1</th>\n",
       "      <td>001 Create and Retrieve Complex CR with all pa...</td>\n",
       "      <td>AssertionError</td>\n",
       "      <td></td>\n",
       "    </tr>\n",
       "    <tr>\n",
       "      <th>3</th>\n",
       "      <td>001 Disconnect CR with mandatory and optional ...</td>\n",
       "      <td>AssertionError</td>\n",
       "      <td></td>\n",
       "    </tr>\n",
       "    <tr>\n",
       "      <th>4</th>\n",
       "      <td>002 Transfer CR with mandatory and optional pa...</td>\n",
       "      <td>AssertionError</td>\n",
       "      <td></td>\n",
       "    </tr>\n",
       "    <tr>\n",
       "      <th>5</th>\n",
       "      <td>001 Copy CR with mandatory parameters AT-75647</td>\n",
       "      <td>AssertionError</td>\n",
       "      <td></td>\n",
       "    </tr>\n",
       "    <tr>\n",
       "      <th>6</th>\n",
       "      <td>001 Create a CR with mandatory parameters AT-6...</td>\n",
       "      <td>AssertionError</td>\n",
       "      <td></td>\n",
       "    </tr>\n",
       "    <tr>\n",
       "      <th>7</th>\n",
       "      <td>009 Create a CR with optional parameters AT-72321</td>\n",
       "      <td>AssertionError</td>\n",
       "      <td></td>\n",
       "    </tr>\n",
       "    <tr>\n",
       "      <th>11</th>\n",
       "      <td>001 Complex TR Create, Retrieve, Update and De...</td>\n",
       "      <td>AssertionError</td>\n",
       "      <td></td>\n",
       "    </tr>\n",
       "    <tr>\n",
       "      <th>12</th>\n",
       "      <td>001 Complex TR CRUD and CTD with all parameters</td>\n",
       "      <td>AssertionError</td>\n",
       "      <td></td>\n",
       "    </tr>\n",
       "    <tr>\n",
       "      <th>13</th>\n",
       "      <td>001 Multiple number query for Spare, Reserved ...</td>\n",
       "      <td>AssertionError</td>\n",
       "      <td></td>\n",
       "    </tr>\n",
       "  </tbody>\n",
       "</table>\n",
       "</div>"
      ],
      "text/plain": [
       "                                       Test Case Name           Error Simplified Text\n",
       "0   001 Copy CR with mandatory parameters where so...  AssertionError                \n",
       "1   001 Create and Retrieve Complex CR with all pa...  AssertionError                \n",
       "3   001 Disconnect CR with mandatory and optional ...  AssertionError                \n",
       "4   002 Transfer CR with mandatory and optional pa...  AssertionError                \n",
       "5      001 Copy CR with mandatory parameters AT-75647  AssertionError                \n",
       "6   001 Create a CR with mandatory parameters AT-6...  AssertionError                \n",
       "7   009 Create a CR with optional parameters AT-72321  AssertionError                \n",
       "11  001 Complex TR Create, Retrieve, Update and De...  AssertionError                \n",
       "12    001 Complex TR CRUD and CTD with all parameters  AssertionError                \n",
       "13  001 Multiple number query for Spare, Reserved ...  AssertionError                "
      ]
     },
     "execution_count": 22,
     "metadata": {},
     "output_type": "execute_result"
    }
   ],
   "source": [
    "df.head(36)"
   ]
  },
  {
   "cell_type": "markdown",
   "metadata": {
    "colab_type": "text",
    "id": "4TD2tPG5G1fG"
   },
   "source": [
    "# passing to csv"
   ]
  },
  {
   "cell_type": "code",
   "execution_count": 11,
   "metadata": {
    "colab": {},
    "colab_type": "code",
    "id": "VnaElNiwG1fG"
   },
   "outputs": [],
   "source": [
    "#storing the values to a csv file \n",
    "df.to_csv('group_by_error.csv', sep=',', columns=['Test Case Name','Error'],encoding='utf-8',index = None, header=True)"
   ]
  },
  {
   "cell_type": "code",
   "execution_count": null,
   "metadata": {},
   "outputs": [],
   "source": []
  }
 ],
 "metadata": {
  "colab": {
   "collapsed_sections": [],
   "name": "Group_by_error.ipynb",
   "provenance": []
  },
  "kernelspec": {
   "display_name": "Python 3",
   "language": "python",
   "name": "python3"
  },
  "language_info": {
   "codemirror_mode": {
    "name": "ipython",
    "version": 3
   },
   "file_extension": ".py",
   "mimetype": "text/x-python",
   "name": "python",
   "nbconvert_exporter": "python",
   "pygments_lexer": "ipython3",
   "version": "3.7.0"
  }
 },
 "nbformat": 4,
 "nbformat_minor": 1
}
